{
 "cells": [
  {
   "cell_type": "code",
   "execution_count": 1,
   "id": "a0fa9797",
   "metadata": {},
   "outputs": [],
   "source": [
    "# Import the random module.\n",
    "import random"
   ]
  },
  {
   "cell_type": "code",
   "execution_count": 3,
   "id": "afd3ace4",
   "metadata": {},
   "outputs": [
    {
     "data": {
      "text/plain": [
       "30"
      ]
     },
     "execution_count": 3,
     "metadata": {},
     "output_type": "execute_result"
    }
   ],
   "source": [
    "random.randint(-90, 90)"
   ]
  },
  {
   "cell_type": "code",
   "execution_count": 4,
   "id": "cb7c6412",
   "metadata": {},
   "outputs": [
    {
     "data": {
      "text/plain": [
       "0.7738552630543563"
      ]
     },
     "execution_count": 4,
     "metadata": {},
     "output_type": "execute_result"
    }
   ],
   "source": [
    "random.random()"
   ]
  },
  {
   "cell_type": "code",
   "execution_count": 5,
   "id": "fc77d22a",
   "metadata": {},
   "outputs": [],
   "source": [
    "x = 1\n",
    "latitudes = []\n",
    "while x < 11:\n",
    "    random_lat = random.randint(-90, 89) + random.random()\n",
    "    latitudes.append(random_lat)\n",
    "    x += 1"
   ]
  },
  {
   "cell_type": "code",
   "execution_count": 6,
   "id": "faa60f5f",
   "metadata": {},
   "outputs": [],
   "source": [
    "# Import the NumPy module.\n",
    "import numpy as np"
   ]
  },
  {
   "cell_type": "code",
   "execution_count": 7,
   "id": "6f1774f0",
   "metadata": {},
   "outputs": [
    {
     "data": {
      "text/plain": [
       "-67.0221684320138"
      ]
     },
     "execution_count": 7,
     "metadata": {},
     "output_type": "execute_result"
    }
   ],
   "source": [
    "np.random.uniform(-90.000, 90.000)"
   ]
  },
  {
   "cell_type": "code",
   "execution_count": 8,
   "id": "046b65e4",
   "metadata": {},
   "outputs": [
    {
     "data": {
      "text/plain": [
       "array([-78.7274424 ,  58.68237701, -40.12974739, -31.40705137,\n",
       "        21.37781584,  81.0926324 , -82.04498205, -42.34130311,\n",
       "       -25.51609466,  73.74222837, -37.68303721,  -8.82309017,\n",
       "        47.00547886,  81.49174841, -89.54256302,   6.97846112,\n",
       "       -55.10152337,  -7.88972726,  35.84160025,  53.00977002,\n",
       "        82.76312941,  42.95076213,  21.98804303, -52.71735642,\n",
       "        62.62002001, -77.37309227, -40.59515783,  70.08798948,\n",
       "        54.74824766,  79.08777374,  17.49366548,   7.41209938,\n",
       "        35.57983806,  74.2355589 , -67.7640339 ,  12.25577862,\n",
       "        46.56592629,  57.47597208, -53.827322  ,  16.6943053 ,\n",
       "         7.83528792, -23.82177197,  84.57817627,  46.13329771,\n",
       "        -7.8038604 , -29.17150764,  11.82715862,  85.31790262,\n",
       "        -5.75116538, -12.37484651])"
      ]
     },
     "execution_count": 8,
     "metadata": {},
     "output_type": "execute_result"
    }
   ],
   "source": [
    "np.random.uniform(-90.000, 90.000, size=50)"
   ]
  },
  {
   "cell_type": "code",
   "execution_count": 12,
   "id": "0641f318",
   "metadata": {},
   "outputs": [],
   "source": [
    "# Import timeit.\n",
    "import timeit"
   ]
  },
  {
   "cell_type": "code",
   "execution_count": 15,
   "id": "6cb7f0a4",
   "metadata": {},
   "outputs": [
    {
     "name": "stdout",
     "output_type": "stream",
     "text": [
      "11.2 µs ± 54.8 ns per loop (mean ± std. dev. of 7 runs, 100000 loops each)\n"
     ]
    }
   ],
   "source": [
    "%timeit np.random.uniform(-90.000, 90.000, size=1500)"
   ]
  },
  {
   "cell_type": "code",
   "execution_count": null,
   "id": "217ac5d1",
   "metadata": {},
   "outputs": [],
   "source": [
    "def latitudes(size):\n",
    "    latitudes = []\n",
    "    x = 0\n",
    "    while x < (size):\n",
    "        random_lat = random.randint(-90, 90) + random.random()\n",
    "        latitudes.append(random_lat)\n",
    "        x += 1\n",
    "    return latitudes\n",
    "# Call the function with 1500.\n",
    "%timeit latitudes(1500)"
   ]
  },
  {
   "cell_type": "code",
   "execution_count": null,
   "id": "52cb25f6",
   "metadata": {},
   "outputs": [],
   "source": []
  }
 ],
 "metadata": {
  "kernelspec": {
   "display_name": "PythonData",
   "language": "python",
   "name": "pythondata"
  },
  "language_info": {
   "codemirror_mode": {
    "name": "ipython",
    "version": 3
   },
   "file_extension": ".py",
   "mimetype": "text/x-python",
   "name": "python",
   "nbconvert_exporter": "python",
   "pygments_lexer": "ipython3",
   "version": "3.7.11"
  }
 },
 "nbformat": 4,
 "nbformat_minor": 5
}
